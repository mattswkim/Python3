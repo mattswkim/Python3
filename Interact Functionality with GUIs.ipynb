{
 "cells": [
  {
   "cell_type": "code",
   "execution_count": 1,
   "metadata": {},
   "outputs": [],
   "source": [
    "from ipywidgets import interact, interactive, fixed\n",
    "import ipywidgets as widgets"
   ]
  },
  {
   "cell_type": "code",
   "execution_count": 9,
   "metadata": {},
   "outputs": [],
   "source": [
    "def func(x):\n",
    "    return x"
   ]
  },
  {
   "cell_type": "code",
   "execution_count": 5,
   "metadata": {
    "scrolled": true
   },
   "outputs": [
    {
     "data": {
      "application/vnd.jupyter.widget-view+json": {
       "model_id": "495e1a3658a047acaa715177c2e067ed",
       "version_major": 2,
       "version_minor": 0
      },
      "text/plain": [
       "interactive(children=(IntSlider(value=10, description='x', max=30, min=-10), Output()), _dom_classes=('widget-…"
      ]
     },
     "metadata": {},
     "output_type": "display_data"
    },
    {
     "data": {
      "text/plain": [
       "<function __main__.func(x)>"
      ]
     },
     "execution_count": 5,
     "metadata": {},
     "output_type": "execute_result"
    }
   ],
   "source": [
    "interact(func,x=10)"
   ]
  },
  {
   "cell_type": "code",
   "execution_count": 8,
   "metadata": {},
   "outputs": [
    {
     "data": {
      "application/vnd.jupyter.widget-view+json": {
       "model_id": "e1d6157ade0c47f0b88bce35beeda234",
       "version_major": 2,
       "version_minor": 0
      },
      "text/plain": [
       "interactive(children=(Checkbox(value=True, description='x'), Output()), _dom_classes=('widget-interact',))"
      ]
     },
     "metadata": {},
     "output_type": "display_data"
    }
   ],
   "source": [
    "@interact(x=True,y=fixed(1.0))\n",
    "def g(x,y):\n",
    "    return (x,y)"
   ]
  },
  {
   "cell_type": "code",
   "execution_count": 10,
   "metadata": {},
   "outputs": [
    {
     "data": {
      "application/vnd.jupyter.widget-view+json": {
       "model_id": "2e9b80a0421e4327b19eae2ad048aa0b",
       "version_major": 2,
       "version_minor": 0
      },
      "text/plain": [
       "interactive(children=(IntSlider(value=0, description='x', min=-100, step=2), Output()), _dom_classes=('widget-…"
      ]
     },
     "metadata": {},
     "output_type": "display_data"
    },
    {
     "data": {
      "text/plain": [
       "<function __main__.func(x)>"
      ]
     },
     "execution_count": 10,
     "metadata": {},
     "output_type": "execute_result"
    }
   ],
   "source": [
    "interact(func,x=widgets.IntSlider(min=-100,max=100,step=2,value=0))"
   ]
  },
  {
   "cell_type": "code",
   "execution_count": 11,
   "metadata": {},
   "outputs": [
    {
     "data": {
      "application/vnd.jupyter.widget-view+json": {
       "model_id": "a01faa3dd45a427789dd903e372bed05",
       "version_major": 2,
       "version_minor": 0
      },
      "text/plain": [
       "interactive(children=(IntSlider(value=0, description='x', min=-100), Output()), _dom_classes=('widget-interact…"
      ]
     },
     "metadata": {},
     "output_type": "display_data"
    },
    {
     "data": {
      "text/plain": [
       "<function __main__.func(x)>"
      ]
     },
     "execution_count": 11,
     "metadata": {},
     "output_type": "execute_result"
    }
   ],
   "source": [
    "interact(func,x=(-100,100,1,))"
   ]
  },
  {
   "cell_type": "code",
   "execution_count": 12,
   "metadata": {},
   "outputs": [
    {
     "data": {
      "application/vnd.jupyter.widget-view+json": {
       "model_id": "b1fc092e5782412a9a62d3eff779c2f8",
       "version_major": 2,
       "version_minor": 0
      },
      "text/plain": [
       "interactive(children=(FloatSlider(value=5.0, description='x', max=20.0, step=0.5), Output()), _dom_classes=('w…"
      ]
     },
     "metadata": {},
     "output_type": "display_data"
    }
   ],
   "source": [
    "@interact(x=(0.0,20.0,0.5))\n",
    "def h(x=5.0):\n",
    "    return x"
   ]
  },
  {
   "cell_type": "code",
   "execution_count": 14,
   "metadata": {},
   "outputs": [
    {
     "data": {
      "application/vnd.jupyter.widget-view+json": {
       "model_id": "3704cb7fee454e9dbcb02f41510141fd",
       "version_major": 2,
       "version_minor": 0
      },
      "text/plain": [
       "interactive(children=(Dropdown(description='x', options=('hello', 'option2', 'optopn2'), value='hello'), Outpu…"
      ]
     },
     "metadata": {},
     "output_type": "display_data"
    },
    {
     "data": {
      "text/plain": [
       "<function __main__.func(x)>"
      ]
     },
     "execution_count": 14,
     "metadata": {},
     "output_type": "execute_result"
    }
   ],
   "source": [
    "interact(func,x=['hello','option2','optopn2'])"
   ]
  },
  {
   "cell_type": "code",
   "execution_count": 15,
   "metadata": {},
   "outputs": [
    {
     "data": {
      "application/vnd.jupyter.widget-view+json": {
       "model_id": "fd4aafcf7ea34dfabdf19ef36db24d62",
       "version_major": 2,
       "version_minor": 0
      },
      "text/plain": [
       "interactive(children=(Dropdown(description='x', options={'one': 10, 'two': 20}, value=10), Output()), _dom_cla…"
      ]
     },
     "metadata": {},
     "output_type": "display_data"
    },
    {
     "data": {
      "text/plain": [
       "<function __main__.func(x)>"
      ]
     },
     "execution_count": 15,
     "metadata": {},
     "output_type": "execute_result"
    }
   ],
   "source": [
    "interact(func,x={'one':10,'two':20})"
   ]
  },
  {
   "cell_type": "code",
   "execution_count": 16,
   "metadata": {},
   "outputs": [],
   "source": [
    "from IPython.display import display\n",
    "\n",
    "def f(a,b):\n",
    "    display(a+b)\n",
    "    return a+b"
   ]
  },
  {
   "cell_type": "code",
   "execution_count": 17,
   "metadata": {},
   "outputs": [],
   "source": [
    "w = interactive(f,a=10,b=10)"
   ]
  },
  {
   "cell_type": "code",
   "execution_count": 18,
   "metadata": {},
   "outputs": [
    {
     "data": {
      "text/plain": [
       "ipywidgets.widgets.interaction.interactive"
      ]
     },
     "execution_count": 18,
     "metadata": {},
     "output_type": "execute_result"
    }
   ],
   "source": [
    "type(w)"
   ]
  },
  {
   "cell_type": "code",
   "execution_count": 19,
   "metadata": {},
   "outputs": [
    {
     "data": {
      "application/vnd.jupyter.widget-view+json": {
       "model_id": "",
       "version_major": 2,
       "version_minor": 0
      },
      "text/plain": [
       "interactive(children=(IntSlider(value=10, description='a', max=30, min=-10), IntSlider(value=10, description='…"
      ]
     },
     "metadata": {},
     "output_type": "display_data"
    }
   ],
   "source": [
    "display(w)"
   ]
  },
  {
   "cell_type": "markdown",
   "metadata": {},
   "source": [
    "# Widgets Basics "
   ]
  },
  {
   "cell_type": "code",
   "execution_count": 20,
   "metadata": {},
   "outputs": [
    {
     "data": {
      "application/vnd.jupyter.widget-view+json": {
       "model_id": "3a2288c2eec543b38d6e8ff1635384e6",
       "version_major": 2,
       "version_minor": 0
      },
      "text/plain": [
       "IntSlider(value=0)"
      ]
     },
     "metadata": {},
     "output_type": "display_data"
    }
   ],
   "source": [
    "widgets.IntSlider()"
   ]
  },
  {
   "cell_type": "code",
   "execution_count": 22,
   "metadata": {},
   "outputs": [],
   "source": [
    "w.close()"
   ]
  },
  {
   "cell_type": "code",
   "execution_count": 23,
   "metadata": {},
   "outputs": [
    {
     "data": {
      "application/vnd.jupyter.widget-view+json": {
       "model_id": "169b5ff26bb0431aa96d09db8e619539",
       "version_major": 2,
       "version_minor": 0
      },
      "text/plain": [
       "IntSlider(value=0)"
      ]
     },
     "metadata": {},
     "output_type": "display_data"
    }
   ],
   "source": [
    "w = widgets.IntSlider()\n",
    "display(w)"
   ]
  },
  {
   "cell_type": "code",
   "execution_count": 25,
   "metadata": {},
   "outputs": [
    {
     "data": {
      "text/plain": [
       "67"
      ]
     },
     "execution_count": 25,
     "metadata": {},
     "output_type": "execute_result"
    }
   ],
   "source": [
    "w.value"
   ]
  },
  {
   "cell_type": "code",
   "execution_count": 27,
   "metadata": {},
   "outputs": [],
   "source": [
    "w.value =21"
   ]
  },
  {
   "cell_type": "code",
   "execution_count": 28,
   "metadata": {},
   "outputs": [],
   "source": [
    "w.max=200"
   ]
  },
  {
   "cell_type": "code",
   "execution_count": 34,
   "metadata": {},
   "outputs": [
    {
     "data": {
      "application/vnd.jupyter.widget-view+json": {
       "model_id": "080bbe3368094942ab55c2e85041445d",
       "version_major": 2,
       "version_minor": 0
      },
      "text/plain": [
       "FloatText(value=0.0)"
      ]
     },
     "metadata": {},
     "output_type": "display_data"
    },
    {
     "data": {
      "application/vnd.jupyter.widget-view+json": {
       "model_id": "cfceeb3c450e4d11a451f19ce462782c",
       "version_major": 2,
       "version_minor": 0
      },
      "text/plain": [
       "FloatSlider(value=0.0)"
      ]
     },
     "metadata": {},
     "output_type": "display_data"
    }
   ],
   "source": [
    "a = widgets.FloatText()\n",
    "b = widgets.FloatSlider()\n",
    "\n",
    "display(a,b)\n",
    "\n",
    "mylink = widgets.jslink((a,'value'),(b,'max'))"
   ]
  },
  {
   "cell_type": "code",
   "execution_count": 30,
   "metadata": {},
   "outputs": [
    {
     "data": {
      "application/vnd.jupyter.widget-view+json": {
       "model_id": "8d02fd162aa34cd4afd23ca5c0a55898",
       "version_major": 2,
       "version_minor": 0
      },
      "text/plain": [
       "FloatText(value=0.0)"
      ]
     },
     "metadata": {},
     "output_type": "display_data"
    }
   ],
   "source": [
    "display(a)"
   ]
  },
  {
   "cell_type": "code",
   "execution_count": 36,
   "metadata": {},
   "outputs": [],
   "source": [
    "mylink.unlink()"
   ]
  },
  {
   "cell_type": "markdown",
   "metadata": {},
   "source": [
    "# Widget List "
   ]
  },
  {
   "cell_type": "code",
   "execution_count": 37,
   "metadata": {
    "scrolled": true
   },
   "outputs": [
    {
     "name": "stdout",
     "output_type": "stream",
     "text": [
      "('@jupyter-widgets/base', '1.1.0', 'LayoutModel', '@jupyter-widgets/base', '1.1.0', 'LayoutView')\n",
      "('@jupyter-widgets/controls', '1.4.0', 'AccordionModel', '@jupyter-widgets/controls', '1.4.0', 'AccordionView')\n",
      "('@jupyter-widgets/controls', '1.4.0', 'AudioModel', '@jupyter-widgets/controls', '1.4.0', 'AudioView')\n",
      "('@jupyter-widgets/controls', '1.4.0', 'BoundedFloatTextModel', '@jupyter-widgets/controls', '1.4.0', 'FloatTextView')\n",
      "('@jupyter-widgets/controls', '1.4.0', 'BoundedIntTextModel', '@jupyter-widgets/controls', '1.4.0', 'IntTextView')\n",
      "('@jupyter-widgets/controls', '1.4.0', 'BoxModel', '@jupyter-widgets/controls', '1.4.0', 'BoxView')\n",
      "('@jupyter-widgets/controls', '1.4.0', 'ButtonModel', '@jupyter-widgets/controls', '1.4.0', 'ButtonView')\n",
      "('@jupyter-widgets/controls', '1.4.0', 'ButtonStyleModel', '@jupyter-widgets/base', '1.1.0', 'StyleView')\n",
      "('@jupyter-widgets/controls', '1.4.0', 'CheckboxModel', '@jupyter-widgets/controls', '1.4.0', 'CheckboxView')\n",
      "('@jupyter-widgets/controls', '1.4.0', 'ColorPickerModel', '@jupyter-widgets/controls', '1.4.0', 'ColorPickerView')\n",
      "('@jupyter-widgets/controls', '1.4.0', 'ControllerAxisModel', '@jupyter-widgets/controls', '1.4.0', 'ControllerAxisView')\n",
      "('@jupyter-widgets/controls', '1.4.0', 'ControllerButtonModel', '@jupyter-widgets/controls', '1.4.0', 'ControllerButtonView')\n",
      "('@jupyter-widgets/controls', '1.4.0', 'ControllerModel', '@jupyter-widgets/controls', '1.4.0', 'ControllerView')\n",
      "('@jupyter-widgets/controls', '1.4.0', 'DOMWidgetModel', '@jupyter-widgets/controls', '1.4.0', None)\n",
      "('@jupyter-widgets/controls', '1.4.0', 'DatePickerModel', '@jupyter-widgets/controls', '1.4.0', 'DatePickerView')\n",
      "('@jupyter-widgets/controls', '1.4.0', 'DescriptionStyleModel', '@jupyter-widgets/base', '1.1.0', 'StyleView')\n",
      "('@jupyter-widgets/controls', '1.4.0', 'DirectionalLinkModel', '@jupyter-widgets/controls', '1.4.0', None)\n",
      "('@jupyter-widgets/controls', '1.4.0', 'DropdownModel', '@jupyter-widgets/controls', '1.4.0', 'DropdownView')\n",
      "('@jupyter-widgets/controls', '1.4.0', 'FloatLogSliderModel', '@jupyter-widgets/controls', '1.4.0', 'FloatLogSliderView')\n",
      "('@jupyter-widgets/controls', '1.4.0', 'FloatProgressModel', '@jupyter-widgets/controls', '1.4.0', 'ProgressView')\n",
      "('@jupyter-widgets/controls', '1.4.0', 'FloatRangeSliderModel', '@jupyter-widgets/controls', '1.4.0', 'FloatRangeSliderView')\n",
      "('@jupyter-widgets/controls', '1.4.0', 'FloatSliderModel', '@jupyter-widgets/controls', '1.4.0', 'FloatSliderView')\n",
      "('@jupyter-widgets/controls', '1.4.0', 'FloatTextModel', '@jupyter-widgets/controls', '1.4.0', 'FloatTextView')\n",
      "('@jupyter-widgets/controls', '1.4.0', 'GridBoxModel', '@jupyter-widgets/controls', '1.4.0', 'GridBoxView')\n",
      "('@jupyter-widgets/controls', '1.4.0', 'HBoxModel', '@jupyter-widgets/controls', '1.4.0', 'HBoxView')\n",
      "('@jupyter-widgets/controls', '1.4.0', 'HTMLMathModel', '@jupyter-widgets/controls', '1.4.0', 'HTMLMathView')\n",
      "('@jupyter-widgets/controls', '1.4.0', 'HTMLModel', '@jupyter-widgets/controls', '1.4.0', 'HTMLView')\n",
      "('@jupyter-widgets/controls', '1.4.0', 'ImageModel', '@jupyter-widgets/controls', '1.4.0', 'ImageView')\n",
      "('@jupyter-widgets/controls', '1.4.0', 'IntProgressModel', '@jupyter-widgets/controls', '1.4.0', 'ProgressView')\n",
      "('@jupyter-widgets/controls', '1.4.0', 'IntRangeSliderModel', '@jupyter-widgets/controls', '1.4.0', 'IntRangeSliderView')\n",
      "('@jupyter-widgets/controls', '1.4.0', 'IntSliderModel', '@jupyter-widgets/controls', '1.4.0', 'IntSliderView')\n",
      "('@jupyter-widgets/controls', '1.4.0', 'IntTextModel', '@jupyter-widgets/controls', '1.4.0', 'IntTextView')\n",
      "('@jupyter-widgets/controls', '1.4.0', 'LabelModel', '@jupyter-widgets/controls', '1.4.0', 'LabelView')\n",
      "('@jupyter-widgets/controls', '1.4.0', 'LinkModel', '@jupyter-widgets/controls', '1.4.0', None)\n",
      "('@jupyter-widgets/controls', '1.4.0', 'PasswordModel', '@jupyter-widgets/controls', '1.4.0', 'PasswordView')\n",
      "('@jupyter-widgets/controls', '1.4.0', 'PlayModel', '@jupyter-widgets/controls', '1.4.0', 'PlayView')\n",
      "('@jupyter-widgets/controls', '1.4.0', 'ProgressStyleModel', '@jupyter-widgets/base', '1.1.0', 'StyleView')\n",
      "('@jupyter-widgets/controls', '1.4.0', 'RadioButtonsModel', '@jupyter-widgets/controls', '1.4.0', 'RadioButtonsView')\n",
      "('@jupyter-widgets/controls', '1.4.0', 'SelectModel', '@jupyter-widgets/controls', '1.4.0', 'SelectView')\n",
      "('@jupyter-widgets/controls', '1.4.0', 'SelectMultipleModel', '@jupyter-widgets/controls', '1.4.0', 'SelectMultipleView')\n",
      "('@jupyter-widgets/controls', '1.4.0', 'SelectionRangeSliderModel', '@jupyter-widgets/controls', '1.4.0', 'SelectionRangeSliderView')\n",
      "('@jupyter-widgets/controls', '1.4.0', 'SelectionSliderModel', '@jupyter-widgets/controls', '1.4.0', 'SelectionSliderView')\n",
      "('@jupyter-widgets/controls', '1.4.0', 'SliderStyleModel', '@jupyter-widgets/base', '1.1.0', 'StyleView')\n",
      "('@jupyter-widgets/controls', '1.4.0', 'TabModel', '@jupyter-widgets/controls', '1.4.0', 'TabView')\n",
      "('@jupyter-widgets/controls', '1.4.0', 'TextModel', '@jupyter-widgets/controls', '1.4.0', 'TextView')\n",
      "('@jupyter-widgets/controls', '1.4.0', 'TextareaModel', '@jupyter-widgets/controls', '1.4.0', 'TextareaView')\n",
      "('@jupyter-widgets/controls', '1.4.0', 'ToggleButtonModel', '@jupyter-widgets/controls', '1.4.0', 'ToggleButtonView')\n",
      "('@jupyter-widgets/controls', '1.4.0', 'ToggleButtonsModel', '@jupyter-widgets/controls', '1.4.0', 'ToggleButtonsView')\n",
      "('@jupyter-widgets/controls', '1.4.0', 'ToggleButtonsStyleModel', '@jupyter-widgets/base', '1.1.0', 'StyleView')\n",
      "('@jupyter-widgets/controls', '1.4.0', 'VBoxModel', '@jupyter-widgets/controls', '1.4.0', 'VBoxView')\n",
      "('@jupyter-widgets/controls', '1.4.0', 'ValidModel', '@jupyter-widgets/controls', '1.4.0', 'ValidView')\n",
      "('@jupyter-widgets/controls', '1.4.0', 'VideoModel', '@jupyter-widgets/controls', '1.4.0', 'VideoView')\n",
      "('@jupyter-widgets/output', '1.0.0', 'OutputModel', '@jupyter-widgets/output', '1.0.0', 'OutputView')\n"
     ]
    }
   ],
   "source": [
    "for item in widgets.Widget.widget_types.items():\n",
    "    print(item[0])"
   ]
  },
  {
   "cell_type": "markdown",
   "metadata": {},
   "source": [
    "## Widget Styling "
   ]
  },
  {
   "cell_type": "code",
   "execution_count": 39,
   "metadata": {},
   "outputs": [
    {
     "data": {
      "application/vnd.jupyter.widget-view+json": {
       "model_id": "1b081a2ffa9e498d84179cfd2b4c04e3",
       "version_major": 2,
       "version_minor": 0
      },
      "text/plain": [
       "IntSlider(value=0)"
      ]
     },
     "metadata": {},
     "output_type": "display_data"
    }
   ],
   "source": [
    "w = widgets.IntSlider()\n",
    "display(w)"
   ]
  },
  {
   "cell_type": "code",
   "execution_count": 41,
   "metadata": {},
   "outputs": [],
   "source": [
    "w.layout.height = '75px'\n",
    "w.layout.margin = 'auto'\n"
   ]
  },
  {
   "cell_type": "code",
   "execution_count": 43,
   "metadata": {},
   "outputs": [
    {
     "data": {
      "application/vnd.jupyter.widget-view+json": {
       "model_id": "235babbe29a0446ea3f97be13dac4bfd",
       "version_major": 2,
       "version_minor": 0
      },
      "text/plain": [
       "IntSlider(value=15, description='New Slider')"
      ]
     },
     "metadata": {},
     "output_type": "display_data"
    }
   ],
   "source": [
    "x = widgets.IntSlider(value=15,description='New Slider')\n",
    "display(x)"
   ]
  },
  {
   "cell_type": "code",
   "execution_count": 44,
   "metadata": {},
   "outputs": [],
   "source": [
    "x.layout = w.layout"
   ]
  },
  {
   "cell_type": "code",
   "execution_count": 47,
   "metadata": {},
   "outputs": [
    {
     "data": {
      "application/vnd.jupyter.widget-view+json": {
       "model_id": "e557752eb10c42c8b2a630f0d4e5f88f",
       "version_major": 2,
       "version_minor": 0
      },
      "text/plain": [
       "Button(button_style='warning', description='Ordinary Button', style=ButtonStyle())"
      ]
     },
     "metadata": {},
     "output_type": "display_data"
    }
   ],
   "source": [
    "widgets.Button(description='Ordinary Button',button_style='warning')"
   ]
  },
  {
   "cell_type": "code",
   "execution_count": null,
   "metadata": {},
   "outputs": [],
   "source": []
  },
  {
   "cell_type": "code",
   "execution_count": 49,
   "metadata": {},
   "outputs": [
    {
     "data": {
      "application/vnd.jupyter.widget-view+json": {
       "model_id": "7ed62725efa0438c9e5d78a4d1aa19ea",
       "version_major": 2,
       "version_minor": 0
      },
      "text/plain": [
       "Button(description='Custom Color', style=ButtonStyle(button_color='lightgreen'))"
      ]
     },
     "metadata": {},
     "output_type": "display_data"
    }
   ],
   "source": [
    "b1 = widgets.Button(description='Custom Color')\n",
    "b1.style.button_color = 'lightgreen'\n",
    "b1"
   ]
  },
  {
   "cell_type": "code",
   "execution_count": 51,
   "metadata": {},
   "outputs": [
    {
     "data": {
      "application/vnd.jupyter.widget-view+json": {
       "model_id": "188f38cdde554c9697b31a505b27e328",
       "version_major": 2,
       "version_minor": 0
      },
      "text/plain": [
       "Button(description='New', style=ButtonStyle(button_color='lightgreen'))"
      ]
     },
     "metadata": {},
     "output_type": "display_data"
    }
   ],
   "source": [
    "b2 = widgets.Button(description='New')\n",
    "b2.style = b1.style\n",
    "b2"
   ]
  },
  {
   "cell_type": "code",
   "execution_count": 53,
   "metadata": {},
   "outputs": [
    {
     "data": {
      "application/vnd.jupyter.widget-view+json": {
       "model_id": "4cb86f9566454d4bb4e7b87f877e1e58",
       "version_major": 2,
       "version_minor": 0
      },
      "text/plain": [
       "IntSlider(value=0, description='My Handle', style=SliderStyle(handle_color='lightblue'))"
      ]
     },
     "metadata": {},
     "output_type": "display_data"
    }
   ],
   "source": [
    "s1 = widgets.IntSlider(description='My Handle')\n",
    "s1.style.handle_color = 'lightblue'\n",
    "s1"
   ]
  },
  {
   "cell_type": "code",
   "execution_count": null,
   "metadata": {},
   "outputs": [],
   "source": []
  },
  {
   "cell_type": "code",
   "execution_count": null,
   "metadata": {},
   "outputs": [],
   "source": []
  },
  {
   "cell_type": "code",
   "execution_count": null,
   "metadata": {},
   "outputs": [],
   "source": []
  },
  {
   "cell_type": "code",
   "execution_count": null,
   "metadata": {},
   "outputs": [],
   "source": []
  },
  {
   "cell_type": "code",
   "execution_count": null,
   "metadata": {},
   "outputs": [],
   "source": []
  },
  {
   "cell_type": "code",
   "execution_count": null,
   "metadata": {},
   "outputs": [],
   "source": []
  },
  {
   "cell_type": "code",
   "execution_count": null,
   "metadata": {},
   "outputs": [],
   "source": []
  },
  {
   "cell_type": "code",
   "execution_count": null,
   "metadata": {},
   "outputs": [],
   "source": []
  },
  {
   "cell_type": "code",
   "execution_count": null,
   "metadata": {},
   "outputs": [],
   "source": []
  },
  {
   "cell_type": "code",
   "execution_count": null,
   "metadata": {},
   "outputs": [],
   "source": []
  }
 ],
 "metadata": {
  "kernelspec": {
   "display_name": "Python 3",
   "language": "python",
   "name": "python3"
  },
  "language_info": {
   "codemirror_mode": {
    "name": "ipython",
    "version": 3
   },
   "file_extension": ".py",
   "mimetype": "text/x-python",
   "name": "python",
   "nbconvert_exporter": "python",
   "pygments_lexer": "ipython3",
   "version": "3.7.3"
  }
 },
 "nbformat": 4,
 "nbformat_minor": 2
}
